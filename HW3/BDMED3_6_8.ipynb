{
  "cells": [
    {
      "cell_type": "code",
      "execution_count": 17,
      "metadata": {
        "id": "s0_KZtUpdgvk"
      },
      "outputs": [],
      "source": [
        "import pandas as pd\n",
        "import numpy as np\n",
        "import matplotlib.pyplot as plt\n",
        "from collections import defaultdict"
      ]
    },
    {
      "cell_type": "code",
      "execution_count": 18,
      "metadata": {
        "colab": {
          "base_uri": "https://localhost:8080/",
          "height": 206
        },
        "id": "tyojST-Ve35C",
        "outputId": "3e7f8efd-988f-4cb7-898c-e2f9ca38e8fe"
      },
      "outputs": [
        {
          "output_type": "execute_result",
          "data": {
            "text/plain": [
              "      stMRN            dtArrive             dtBegin         dtCompleted\n",
              "0  12222732 2016-04-04 08:00:21 2016-04-04 08:04:56 2016-04-04 08:11:52\n",
              "1  13510077 2016-04-04 08:21:54 2016-04-04 08:26:40 2016-04-04 08:39:12\n",
              "2  11183882 2016-04-04 08:33:38 2016-04-04 08:44:53 2016-04-04 08:44:58\n",
              "3  12949996 2016-04-04 08:38:16 2016-04-04 08:41:27 2016-04-04 08:47:34\n",
              "4  11566221 2016-04-04 08:26:10 2016-04-04 08:33:21 2016-04-04 08:53:06"
            ],
            "text/html": [
              "\n",
              "  <div id=\"df-fa6a6566-de59-4adb-b74a-6ff29b59b956\" class=\"colab-df-container\">\n",
              "    <div>\n",
              "<style scoped>\n",
              "    .dataframe tbody tr th:only-of-type {\n",
              "        vertical-align: middle;\n",
              "    }\n",
              "\n",
              "    .dataframe tbody tr th {\n",
              "        vertical-align: top;\n",
              "    }\n",
              "\n",
              "    .dataframe thead th {\n",
              "        text-align: right;\n",
              "    }\n",
              "</style>\n",
              "<table border=\"1\" class=\"dataframe\">\n",
              "  <thead>\n",
              "    <tr style=\"text-align: right;\">\n",
              "      <th></th>\n",
              "      <th>stMRN</th>\n",
              "      <th>dtArrive</th>\n",
              "      <th>dtBegin</th>\n",
              "      <th>dtCompleted</th>\n",
              "    </tr>\n",
              "  </thead>\n",
              "  <tbody>\n",
              "    <tr>\n",
              "      <th>0</th>\n",
              "      <td>12222732</td>\n",
              "      <td>2016-04-04 08:00:21</td>\n",
              "      <td>2016-04-04 08:04:56</td>\n",
              "      <td>2016-04-04 08:11:52</td>\n",
              "    </tr>\n",
              "    <tr>\n",
              "      <th>1</th>\n",
              "      <td>13510077</td>\n",
              "      <td>2016-04-04 08:21:54</td>\n",
              "      <td>2016-04-04 08:26:40</td>\n",
              "      <td>2016-04-04 08:39:12</td>\n",
              "    </tr>\n",
              "    <tr>\n",
              "      <th>2</th>\n",
              "      <td>11183882</td>\n",
              "      <td>2016-04-04 08:33:38</td>\n",
              "      <td>2016-04-04 08:44:53</td>\n",
              "      <td>2016-04-04 08:44:58</td>\n",
              "    </tr>\n",
              "    <tr>\n",
              "      <th>3</th>\n",
              "      <td>12949996</td>\n",
              "      <td>2016-04-04 08:38:16</td>\n",
              "      <td>2016-04-04 08:41:27</td>\n",
              "      <td>2016-04-04 08:47:34</td>\n",
              "    </tr>\n",
              "    <tr>\n",
              "      <th>4</th>\n",
              "      <td>11566221</td>\n",
              "      <td>2016-04-04 08:26:10</td>\n",
              "      <td>2016-04-04 08:33:21</td>\n",
              "      <td>2016-04-04 08:53:06</td>\n",
              "    </tr>\n",
              "  </tbody>\n",
              "</table>\n",
              "</div>\n",
              "    <div class=\"colab-df-buttons\">\n",
              "\n",
              "  <div class=\"colab-df-container\">\n",
              "    <button class=\"colab-df-convert\" onclick=\"convertToInteractive('df-fa6a6566-de59-4adb-b74a-6ff29b59b956')\"\n",
              "            title=\"Convert this dataframe to an interactive table.\"\n",
              "            style=\"display:none;\">\n",
              "\n",
              "  <svg xmlns=\"http://www.w3.org/2000/svg\" height=\"24px\" viewBox=\"0 -960 960 960\">\n",
              "    <path d=\"M120-120v-720h720v720H120Zm60-500h600v-160H180v160Zm220 220h160v-160H400v160Zm0 220h160v-160H400v160ZM180-400h160v-160H180v160Zm440 0h160v-160H620v160ZM180-180h160v-160H180v160Zm440 0h160v-160H620v160Z\"/>\n",
              "  </svg>\n",
              "    </button>\n",
              "\n",
              "  <style>\n",
              "    .colab-df-container {\n",
              "      display:flex;\n",
              "      gap: 12px;\n",
              "    }\n",
              "\n",
              "    .colab-df-convert {\n",
              "      background-color: #E8F0FE;\n",
              "      border: none;\n",
              "      border-radius: 50%;\n",
              "      cursor: pointer;\n",
              "      display: none;\n",
              "      fill: #1967D2;\n",
              "      height: 32px;\n",
              "      padding: 0 0 0 0;\n",
              "      width: 32px;\n",
              "    }\n",
              "\n",
              "    .colab-df-convert:hover {\n",
              "      background-color: #E2EBFA;\n",
              "      box-shadow: 0px 1px 2px rgba(60, 64, 67, 0.3), 0px 1px 3px 1px rgba(60, 64, 67, 0.15);\n",
              "      fill: #174EA6;\n",
              "    }\n",
              "\n",
              "    .colab-df-buttons div {\n",
              "      margin-bottom: 4px;\n",
              "    }\n",
              "\n",
              "    [theme=dark] .colab-df-convert {\n",
              "      background-color: #3B4455;\n",
              "      fill: #D2E3FC;\n",
              "    }\n",
              "\n",
              "    [theme=dark] .colab-df-convert:hover {\n",
              "      background-color: #434B5C;\n",
              "      box-shadow: 0px 1px 3px 1px rgba(0, 0, 0, 0.15);\n",
              "      filter: drop-shadow(0px 1px 2px rgba(0, 0, 0, 0.3));\n",
              "      fill: #FFFFFF;\n",
              "    }\n",
              "  </style>\n",
              "\n",
              "    <script>\n",
              "      const buttonEl =\n",
              "        document.querySelector('#df-fa6a6566-de59-4adb-b74a-6ff29b59b956 button.colab-df-convert');\n",
              "      buttonEl.style.display =\n",
              "        google.colab.kernel.accessAllowed ? 'block' : 'none';\n",
              "\n",
              "      async function convertToInteractive(key) {\n",
              "        const element = document.querySelector('#df-fa6a6566-de59-4adb-b74a-6ff29b59b956');\n",
              "        const dataTable =\n",
              "          await google.colab.kernel.invokeFunction('convertToInteractive',\n",
              "                                                    [key], {});\n",
              "        if (!dataTable) return;\n",
              "\n",
              "        const docLinkHtml = 'Like what you see? Visit the ' +\n",
              "          '<a target=\"_blank\" href=https://colab.research.google.com/notebooks/data_table.ipynb>data table notebook</a>'\n",
              "          + ' to learn more about interactive tables.';\n",
              "        element.innerHTML = '';\n",
              "        dataTable['output_type'] = 'display_data';\n",
              "        await google.colab.output.renderOutput(dataTable, element);\n",
              "        const docLink = document.createElement('div');\n",
              "        docLink.innerHTML = docLinkHtml;\n",
              "        element.appendChild(docLink);\n",
              "      }\n",
              "    </script>\n",
              "  </div>\n",
              "\n",
              "\n",
              "<div id=\"df-af5845a5-8eb0-4c31-b09d-99d128ca4ed9\">\n",
              "  <button class=\"colab-df-quickchart\" onclick=\"quickchart('df-af5845a5-8eb0-4c31-b09d-99d128ca4ed9')\"\n",
              "            title=\"Suggest charts\"\n",
              "            style=\"display:none;\">\n",
              "\n",
              "<svg xmlns=\"http://www.w3.org/2000/svg\" height=\"24px\"viewBox=\"0 0 24 24\"\n",
              "     width=\"24px\">\n",
              "    <g>\n",
              "        <path d=\"M19 3H5c-1.1 0-2 .9-2 2v14c0 1.1.9 2 2 2h14c1.1 0 2-.9 2-2V5c0-1.1-.9-2-2-2zM9 17H7v-7h2v7zm4 0h-2V7h2v10zm4 0h-2v-4h2v4z\"/>\n",
              "    </g>\n",
              "</svg>\n",
              "  </button>\n",
              "\n",
              "<style>\n",
              "  .colab-df-quickchart {\n",
              "      --bg-color: #E8F0FE;\n",
              "      --fill-color: #1967D2;\n",
              "      --hover-bg-color: #E2EBFA;\n",
              "      --hover-fill-color: #174EA6;\n",
              "      --disabled-fill-color: #AAA;\n",
              "      --disabled-bg-color: #DDD;\n",
              "  }\n",
              "\n",
              "  [theme=dark] .colab-df-quickchart {\n",
              "      --bg-color: #3B4455;\n",
              "      --fill-color: #D2E3FC;\n",
              "      --hover-bg-color: #434B5C;\n",
              "      --hover-fill-color: #FFFFFF;\n",
              "      --disabled-bg-color: #3B4455;\n",
              "      --disabled-fill-color: #666;\n",
              "  }\n",
              "\n",
              "  .colab-df-quickchart {\n",
              "    background-color: var(--bg-color);\n",
              "    border: none;\n",
              "    border-radius: 50%;\n",
              "    cursor: pointer;\n",
              "    display: none;\n",
              "    fill: var(--fill-color);\n",
              "    height: 32px;\n",
              "    padding: 0;\n",
              "    width: 32px;\n",
              "  }\n",
              "\n",
              "  .colab-df-quickchart:hover {\n",
              "    background-color: var(--hover-bg-color);\n",
              "    box-shadow: 0 1px 2px rgba(60, 64, 67, 0.3), 0 1px 3px 1px rgba(60, 64, 67, 0.15);\n",
              "    fill: var(--button-hover-fill-color);\n",
              "  }\n",
              "\n",
              "  .colab-df-quickchart-complete:disabled,\n",
              "  .colab-df-quickchart-complete:disabled:hover {\n",
              "    background-color: var(--disabled-bg-color);\n",
              "    fill: var(--disabled-fill-color);\n",
              "    box-shadow: none;\n",
              "  }\n",
              "\n",
              "  .colab-df-spinner {\n",
              "    border: 2px solid var(--fill-color);\n",
              "    border-color: transparent;\n",
              "    border-bottom-color: var(--fill-color);\n",
              "    animation:\n",
              "      spin 1s steps(1) infinite;\n",
              "  }\n",
              "\n",
              "  @keyframes spin {\n",
              "    0% {\n",
              "      border-color: transparent;\n",
              "      border-bottom-color: var(--fill-color);\n",
              "      border-left-color: var(--fill-color);\n",
              "    }\n",
              "    20% {\n",
              "      border-color: transparent;\n",
              "      border-left-color: var(--fill-color);\n",
              "      border-top-color: var(--fill-color);\n",
              "    }\n",
              "    30% {\n",
              "      border-color: transparent;\n",
              "      border-left-color: var(--fill-color);\n",
              "      border-top-color: var(--fill-color);\n",
              "      border-right-color: var(--fill-color);\n",
              "    }\n",
              "    40% {\n",
              "      border-color: transparent;\n",
              "      border-right-color: var(--fill-color);\n",
              "      border-top-color: var(--fill-color);\n",
              "    }\n",
              "    60% {\n",
              "      border-color: transparent;\n",
              "      border-right-color: var(--fill-color);\n",
              "    }\n",
              "    80% {\n",
              "      border-color: transparent;\n",
              "      border-right-color: var(--fill-color);\n",
              "      border-bottom-color: var(--fill-color);\n",
              "    }\n",
              "    90% {\n",
              "      border-color: transparent;\n",
              "      border-bottom-color: var(--fill-color);\n",
              "    }\n",
              "  }\n",
              "</style>\n",
              "\n",
              "  <script>\n",
              "    async function quickchart(key) {\n",
              "      const quickchartButtonEl =\n",
              "        document.querySelector('#' + key + ' button');\n",
              "      quickchartButtonEl.disabled = true;  // To prevent multiple clicks.\n",
              "      quickchartButtonEl.classList.add('colab-df-spinner');\n",
              "      try {\n",
              "        const charts = await google.colab.kernel.invokeFunction(\n",
              "            'suggestCharts', [key], {});\n",
              "      } catch (error) {\n",
              "        console.error('Error during call to suggestCharts:', error);\n",
              "      }\n",
              "      quickchartButtonEl.classList.remove('colab-df-spinner');\n",
              "      quickchartButtonEl.classList.add('colab-df-quickchart-complete');\n",
              "    }\n",
              "    (() => {\n",
              "      let quickchartButtonEl =\n",
              "        document.querySelector('#df-af5845a5-8eb0-4c31-b09d-99d128ca4ed9 button');\n",
              "      quickchartButtonEl.style.display =\n",
              "        google.colab.kernel.accessAllowed ? 'block' : 'none';\n",
              "    })();\n",
              "  </script>\n",
              "</div>\n",
              "\n",
              "    </div>\n",
              "  </div>\n"
            ],
            "application/vnd.google.colaboratory.intrinsic+json": {
              "type": "dataframe",
              "variable_name": "df",
              "summary": "{\n  \"name\": \"df\",\n  \"rows\": 21873,\n  \"fields\": [\n    {\n      \"column\": \"stMRN\",\n      \"properties\": {\n        \"dtype\": \"number\",\n        \"std\": 1504531,\n        \"min\": 7782570,\n        \"max\": 16682264,\n        \"num_unique_values\": 13330,\n        \"samples\": [\n          13055931,\n          11183379,\n          10524194\n        ],\n        \"semantic_type\": \"\",\n        \"description\": \"\"\n      }\n    },\n    {\n      \"column\": \"dtArrive\",\n      \"properties\": {\n        \"dtype\": \"date\",\n        \"min\": \"2016-04-04 08:00:21\",\n        \"max\": \"2016-11-16 16:20:49\",\n        \"num_unique_values\": 21753,\n        \"samples\": [\n          \"2016-08-10 09:48:10\",\n          \"2016-06-22 12:20:56\",\n          \"2016-07-14 07:55:38\"\n        ],\n        \"semantic_type\": \"\",\n        \"description\": \"\"\n      }\n    },\n    {\n      \"column\": \"dtBegin\",\n      \"properties\": {\n        \"dtype\": \"date\",\n        \"min\": \"2016-04-04 08:04:56\",\n        \"max\": \"2016-11-16 16:27:19\",\n        \"num_unique_values\": 21595,\n        \"samples\": [\n          \"2016-05-18 12:41:19\",\n          \"2016-07-26 12:16:16\",\n          \"2016-05-23 10:04:20\"\n        ],\n        \"semantic_type\": \"\",\n        \"description\": \"\"\n      }\n    },\n    {\n      \"column\": \"dtCompleted\",\n      \"properties\": {\n        \"dtype\": \"date\",\n        \"min\": \"2016-04-04 08:11:52\",\n        \"max\": \"2016-11-16 16:32:55\",\n        \"num_unique_values\": 21576,\n        \"samples\": [\n          \"2016-08-18 08:55:31\",\n          \"2016-06-29 09:01:01\",\n          \"2016-05-03 07:50:10\"\n        ],\n        \"semantic_type\": \"\",\n        \"description\": \"\"\n      }\n    }\n  ]\n}"
            }
          },
          "metadata": {},
          "execution_count": 18
        }
      ],
      "source": [
        "df = pd.read_excel('XRays.xlsx')\n",
        "df.head()"
      ]
    },
    {
      "cell_type": "code",
      "execution_count": 19,
      "metadata": {
        "colab": {
          "base_uri": "https://localhost:8080/"
        },
        "id": "wzUadhPHiMhC",
        "outputId": "3ac35e6e-4e07-428c-c540-fe635316b65e"
      },
      "outputs": [
        {
          "output_type": "stream",
          "name": "stdout",
          "text": [
            "stMRN                   int64\n",
            "dtArrive       datetime64[ns]\n",
            "dtBegin        datetime64[ns]\n",
            "dtCompleted    datetime64[ns]\n",
            "dtype: object\n"
          ]
        }
      ],
      "source": [
        "print(df.dtypes)\n"
      ]
    },
    {
      "cell_type": "markdown",
      "source": [
        "#Task 6"
      ],
      "metadata": {
        "id": "c6-ner-6b9gH"
      }
    },
    {
      "cell_type": "code",
      "execution_count": 20,
      "metadata": {
        "colab": {
          "base_uri": "https://localhost:8080/"
        },
        "id": "AWwrkp5tfKQX",
        "outputId": "06599d33-a78c-4bc8-bde4-3ec7b046e3ca"
      },
      "outputs": [
        {
          "output_type": "stream",
          "name": "stdout",
          "text": [
            "Maximum number of X-ray rooms in use in the facility: 4\n"
          ]
        }
      ],
      "source": [
        "# Using a dictionary to store the number of patients for each minute\n",
        "time_usage = defaultdict(int)\n",
        "\n",
        "# For each exam, increase the counter for every minute from the start to the end of the exam\n",
        "for index, row in df.iterrows():\n",
        "    start = row['dtBegin']\n",
        "    end = row['dtCompleted']\n",
        "\n",
        "    # Increase the counter for each minute in the interval (excluding the final minute)\n",
        "    for minute in pd.date_range(start=start, end=end - pd.Timedelta(minutes=1), freq='min'):\n",
        "        time_usage[minute] += 1\n",
        "\n",
        "# Find the maximum number of patients who were simultaneously undergoing an examination\n",
        "max_rooms = max(time_usage.values())\n",
        "\n",
        "print(f\"Maximum number of X-ray rooms in use in the facility: {max_rooms}\")\n"
      ]
    },
    {
      "cell_type": "code",
      "execution_count": 21,
      "metadata": {
        "colab": {
          "base_uri": "https://localhost:8080/"
        },
        "id": "qGf7G1eC0hpx",
        "outputId": "28394bbd-c0d2-4dab-da0b-205647701ce2"
      },
      "outputs": [
        {
          "output_type": "stream",
          "name": "stdout",
          "text": [
            "Maximum number of X-ray rooms in use in the facility: 21\n"
          ]
        }
      ],
      "source": [
        "# Create a list of events for each exam start and end\n",
        "events = []\n",
        "\n",
        "for index, row in df.iterrows():\n",
        "    events.append((row['dtBegin'], 'start'))\n",
        "    events.append((row['dtCompleted'], 'end'))\n",
        "\n",
        "# Sort events by time, giving priority to 'end' over 'start' if times are equal\n",
        "events.sort(key=lambda x: (x[0], x[1] == 'start'))\n",
        "\n",
        "# Track the number of rooms in use\n",
        "current_rooms = 0\n",
        "max_rooms = 0\n",
        "\n",
        "for event in events:\n",
        "    if event[1] == 'start':\n",
        "        current_rooms += 1\n",
        "    elif event[1] == 'end':\n",
        "        current_rooms -= 1\n",
        "    max_rooms = max(max_rooms, current_rooms)\n",
        "\n",
        "print(f\"Maximum number of X-ray rooms in use in the facility: {max_rooms}\")"
      ]
    },
    {
      "cell_type": "code",
      "execution_count": 22,
      "metadata": {
        "colab": {
          "base_uri": "https://localhost:8080/"
        },
        "id": "sKstierpbgJ7",
        "outputId": "ed681c0e-47d5-49dc-e24a-c96004c9f8da"
      },
      "outputs": [
        {
          "output_type": "stream",
          "name": "stdout",
          "text": [
            "Date: 2016-11-08, Maximum rooms before filtering: 17, Maximum rooms after filtering: 8\n"
          ]
        }
      ],
      "source": [
        "# Sort data by patient and start time\n",
        "df= df.sort_values(by=['stMRN', 'dtBegin'])\n",
        "\n",
        "# Retain only one record per patient who continuously occupied the room\n",
        "filtered_data = []\n",
        "for patient_id, group in df.groupby('stMRN'):\n",
        "    continuous = group.iloc[0].copy()  # Start with the first record\n",
        "    for i in range(1, len(group)):\n",
        "        if group.iloc[i]['dtBegin'] <= continuous['dtCompleted']:\n",
        "            continuous['dtCompleted'] = max(continuous['dtCompleted'], group.iloc[i]['dtCompleted'])\n",
        "        else:\n",
        "            filtered_data.append(continuous)\n",
        "            continuous = group.iloc[i].copy()  # Move to the next record if there is a gap\n",
        "    filtered_data.append(continuous)  # Add the last continuous record\n",
        "\n",
        "# Create a DataFrame from the filtered records\n",
        "filtered_df = pd.DataFrame(filtered_data)\n",
        "\n",
        "# Get unique days from the original data\n",
        "unique_dates = df['dtArrive'].dt.date.unique()\n",
        "\n",
        "max_rooms_overall = []\n",
        "\n",
        "for date in unique_dates:\n",
        "    # Create a time range for each day from 07:00 to 20:00 with 30-minute intervals\n",
        "    time_range = pd.date_range(f\"{date} 07:00:00\", f\"{date} 20:00:00\", freq='30min')\n",
        "\n",
        "    # Calculate the number of ongoing exams for the original data\n",
        "    rooms_in_use = []\n",
        "    for time_point in time_range:\n",
        "        ongoing_exams = df[(df['dtBegin'] <= time_point) &\n",
        "                                   (df['dtCompleted'] >= time_point)]\n",
        "        rooms_in_use.append(len(ongoing_exams))\n",
        "\n",
        "    max_rooms_before_filtering = max(rooms_in_use)\n",
        "    max_rooms_overall.append((date, max_rooms_before_filtering))\n",
        "\n",
        "    # Calculate the number of ongoing exams for the filtered data\n",
        "    rooms_in_use_filtered = []\n",
        "    for time_point in time_range:\n",
        "        ongoing_exams_filtered = filtered_df[(filtered_df['dtBegin'] <= time_point) &\n",
        "                                             (filtered_df['dtCompleted'] >= time_point)]\n",
        "        rooms_in_use_filtered.append(len(ongoing_exams_filtered))\n",
        "\n",
        "    max_rooms_after_filtering = max(rooms_in_use_filtered)\n",
        "\n",
        "    # Store the result based on the index of the maximum before filtering\n",
        "    max_rooms_overall[-1] += (max_rooms_after_filtering,)\n",
        "\n",
        "# Calculate the overall maximum number of rooms before filtering\n",
        "overall_max_before = max([before for _, before, _ in max_rooms_overall])\n",
        "\n",
        "# Output the results\n",
        "for date, before, after in max_rooms_overall:\n",
        "    if before == overall_max_before:\n",
        "        print(f\"Date: {date}, Maximum rooms before filtering: {before}, Maximum rooms after filtering: {after}\")"
      ]
    },
    {
      "cell_type": "markdown",
      "source": [
        "# Task 7"
      ],
      "metadata": {
        "id": "_7Pw7AXrcmxd"
      }
    },
    {
      "cell_type": "code",
      "execution_count": 23,
      "metadata": {
        "colab": {
          "base_uri": "https://localhost:8080/"
        },
        "id": "Y93TG_Blpaow",
        "outputId": "6f587ae0-006e-4601-f373-caf6e570889c"
      },
      "outputs": [
        {
          "output_type": "stream",
          "name": "stdout",
          "text": [
            "Maximum number of patients in the waiting area: 37\n"
          ]
        }
      ],
      "source": [
        "events = []\n",
        "\n",
        "for index, row in df.iterrows():\n",
        "    events.append((row['dtArrive'], 'arrive'))\n",
        "    events.append((row['dtBegin'], 'begin'))\n",
        "\n",
        "# Sort events by time, with arrival having priority if times are equal\n",
        "events.sort(key=lambda x: (x[0], x[1] == 'begin'))\n",
        "\n",
        "# Count the number of patients in the waiting area at each moment and find the maximum\n",
        "current_waiting = 0\n",
        "max_waiting = 0\n",
        "\n",
        "for event in events:\n",
        "    if event[1] == 'arrive':\n",
        "        current_waiting += 1\n",
        "    elif event[1] == 'begin':\n",
        "        current_waiting -= 1\n",
        "    max_waiting = max(max_waiting, current_waiting)\n",
        "\n",
        "print(f\"Maximum number of patients in the waiting area: {max_waiting}\")\n"
      ]
    },
    {
      "cell_type": "code",
      "execution_count": 24,
      "metadata": {
        "colab": {
          "base_uri": "https://localhost:8080/",
          "height": 825
        },
        "id": "uHswarLvbgJ8",
        "outputId": "ce913483-b7a3-4ab4-dd8d-1de438d61674"
      },
      "outputs": [
        {
          "output_type": "display_data",
          "data": {
            "text/plain": [
              "<Figure size 1200x800 with 1 Axes>"
            ],
            "image/png": "[encoded data removed]"
          },
          "metadata": {}
        },
        {
          "output_type": "stream",
          "name": "stdout",
          "text": [
            "The peak average waiting area occupancy is approximately 5.95 patients.\n"
          ]
        }
      ],
      "source": [
        "df['Date'] = df['dtArrive'].dt.date  # Extract date from arrival time\n",
        "\n",
        "# Define time sampling array (from 7 AM to 8 PM, every 30 minutes)\n",
        "time_samples = pd.date_range(\"07:00\", \"20:00\", freq=\"30min\").time\n",
        "\n",
        "# Function to calculate waiting patients for each day\n",
        "def calculate_waiting_patients_per_day(data):\n",
        "    waiting_counts = []\n",
        "    for time in time_samples:\n",
        "        count = len(data[(data['dtArrive'].dt.time <= time) & (data['dtBegin'].dt.time > time)])\n",
        "        waiting_counts.append(count)\n",
        "    return waiting_counts\n",
        "\n",
        "# Calculate waiting patients per day and combine results\n",
        "daily_waiting_data = {day: calculate_waiting_patients_per_day(group) for day, group in df.groupby('Date')}\n",
        "combined_data = pd.DataFrame({\n",
        "    'Time': time_samples,\n",
        "    'Waiting Patients': [sum(data) for data in zip(*daily_waiting_data.values())]\n",
        "})\n",
        "\n",
        "# Calculate average waiting area occupancy\n",
        "combined_data['Waiting Patients'] /= len(daily_waiting_data)\n",
        "\n",
        "# Find peak average waiting area occupancy\n",
        "peak_average_waiting_patients = combined_data['Waiting Patients'].max()\n",
        "\n",
        "# Convert Time to string format for plotting\n",
        "combined_data['Time'] = combined_data['Time'].astype(str)\n",
        "\n",
        "# Plotting the average waiting area occupancy and peak average\n",
        "plt.figure(figsize=(12, 8))\n",
        "plt.plot(combined_data['Time'], combined_data['Waiting Patients'], label='Average Occupancy', linestyle='-', color='b')\n",
        "plt.axhline(y=peak_average_waiting_patients, color='r', linestyle='--', label=f'Peak Average: {peak_average_waiting_patients:.2f}')\n",
        "\n",
        "# Graph settings\n",
        "plt.title('Average and Peak Average Waiting Area Occupancy', fontsize=16)\n",
        "plt.xlabel('Time of Day', fontsize=14)\n",
        "plt.ylabel('Number of Waiting Patients', fontsize=14)\n",
        "plt.xticks(rotation=45)\n",
        "plt.legend()\n",
        "plt.grid(True)\n",
        "plt.tight_layout()\n",
        "plt.show()\n",
        "\n",
        "# Text output for peak average waiting area occupancy\n",
        "print(f\"The peak average waiting area occupancy is approximately {peak_average_waiting_patients:.2f} patients.\")\n"
      ]
    },
    {
      "cell_type": "markdown",
      "source": [
        "#Task *8*"
      ],
      "metadata": {
        "id": "x90xVQ7mcOB-"
      }
    },
    {
      "cell_type": "code",
      "execution_count": 25,
      "metadata": {
        "colab": {
          "base_uri": "https://localhost:8080/"
        },
        "id": "iW2Gmcqm0hs_",
        "outputId": "a13a0d3d-6fc7-49a8-e137-2e063d596582"
      },
      "outputs": [
        {
          "output_type": "stream",
          "name": "stdout",
          "text": [
            "Time interval with the maximum load: 2016-09-15 10:00:00 - 2016-09-15 11:00:00\n",
            "Number of X-ray examinations in this interval: 46\n"
          ]
        }
      ],
      "source": [
        "# Create a column to round the start time of the examination to the desired interval (e.g., each hour)\n",
        "df['interval'] = df['dtBegin'].dt.floor('h')  # Rounding to the nearest hour\n",
        "\n",
        "# Count the number of examinations in each interval\n",
        "interval_counts = df['interval'].value_counts().sort_index()\n",
        "\n",
        "# Find the interval with the maximum number of examinations\n",
        "peak_interval = interval_counts.idxmax()\n",
        "peak_count = interval_counts.max()\n",
        "\n",
        "print(f\"Time interval with the maximum load: {peak_interval} - {peak_interval + pd.Timedelta(hours=1)}\")\n",
        "print(f\"Number of X-ray examinations in this interval: {peak_count}\")\n"
      ]
    },
    {
      "cell_type": "code",
      "execution_count": 26,
      "metadata": {
        "colab": {
          "base_uri": "https://localhost:8080/"
        },
        "id": "3Ll4ph_HbgJ8",
        "outputId": "49a2216e-e74d-45b8-faae-06bf4d5676dc"
      },
      "outputs": [
        {
          "output_type": "stream",
          "name": "stdout",
          "text": [
            "  time_interval      count\n",
            "0   10:00-12:00  43.740506\n",
            "1   13:00-15:00  29.759494\n",
            "2   14:00-16:00   7.778481\n",
            "3     7:00-9:00  19.841772\n"
          ]
        }
      ],
      "source": [
        "# Create a column with the date to group by date and time later\n",
        "df['date'] = df['dtBegin'].dt.date\n",
        "\n",
        "# Define a function that checks which of the given intervals the time belongs to\n",
        "def get_time_interval(dt):\n",
        "    time = dt.time()\n",
        "    if time >= pd.Timestamp(\"07:00:00\").time() and time < pd.Timestamp(\"09:00:00\").time():\n",
        "        return \"7:00-9:00\"\n",
        "    elif time >= pd.Timestamp(\"10:00:00\").time() and time < pd.Timestamp(\"12:00:00\").time():\n",
        "        return \"10:00-12:00\"\n",
        "    elif time >= pd.Timestamp(\"13:00:00\").time() and time < pd.Timestamp(\"15:00:00\").time():\n",
        "        return \"13:00-15:00\"\n",
        "    elif time >= pd.Timestamp(\"14:00:00\").time() and time < pd.Timestamp(\"16:00:00\").time():\n",
        "        return \"14:00-16:00\"\n",
        "    else:\n",
        "        return None\n",
        "\n",
        "# Apply the function to determine the time interval for each examination start time\n",
        "df['time_interval'] = df['dtBegin'].apply(get_time_interval)\n",
        "\n",
        "# Filter only those records that fall within the specified intervals\n",
        "df_filtered = df[df['time_interval'].notna()]\n",
        "\n",
        "# Count the number of examinations for each interval by each date\n",
        "interval_counts = df_filtered.groupby(['date', 'time_interval']).size().reset_index(name='count')\n",
        "\n",
        "# Find the average number of examinations for each time interval\n",
        "average_counts = interval_counts.groupby('time_interval')['count'].mean().reset_index()\n",
        "\n",
        "print(average_counts)\n"
      ]
    }
  ],
  "metadata": {
    "colab": {
      "provenance": []
    },
    "kernelspec": {
      "display_name": "Python 3",
      "name": "python3"
    },
    "language_info": {
      "codemirror_mode": {
        "name": "ipython",
        "version": 3
      },
      "file_extension": ".py",
      "mimetype": "text/x-python",
      "name": "python",
      "nbconvert_exporter": "python",
      "pygments_lexer": "ipython3",
      "version": "3.12.4"
    }
  },
  "nbformat": 4,
  "nbformat_minor": 0
}